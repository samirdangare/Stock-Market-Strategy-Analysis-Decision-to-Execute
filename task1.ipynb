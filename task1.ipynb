{
 "cells": [
  {
   "cell_type": "code",
   "execution_count": 1,
   "id": "c50ff0ab",
   "metadata": {},
   "outputs": [],
   "source": [
    "import pandas as pd\n",
    "import numpy as np "
   ]
  },
  {
   "cell_type": "code",
   "execution_count": 2,
   "id": "e1047ab9",
   "metadata": {},
   "outputs": [],
   "source": [
    "data=pd.read_csv(\"tradelog.csv\")"
   ]
  },
  {
   "cell_type": "code",
   "execution_count": 4,
   "id": "412d3a2a",
   "metadata": {},
   "outputs": [
    {
     "data": {
      "text/html": [
       "<div>\n",
       "<style scoped>\n",
       "    .dataframe tbody tr th:only-of-type {\n",
       "        vertical-align: middle;\n",
       "    }\n",
       "\n",
       "    .dataframe tbody tr th {\n",
       "        vertical-align: top;\n",
       "    }\n",
       "\n",
       "    .dataframe thead th {\n",
       "        text-align: right;\n",
       "    }\n",
       "</style>\n",
       "<table border=\"1\" class=\"dataframe\">\n",
       "  <thead>\n",
       "    <tr style=\"text-align: right;\">\n",
       "      <th></th>\n",
       "      <th>Unnamed: 0</th>\n",
       "      <th>Ticker</th>\n",
       "      <th>Entry Time</th>\n",
       "      <th>Entry Price</th>\n",
       "      <th>Exit Time</th>\n",
       "      <th>Exit Price</th>\n",
       "    </tr>\n",
       "  </thead>\n",
       "  <tbody>\n",
       "    <tr>\n",
       "      <th>0</th>\n",
       "      <td>1</td>\n",
       "      <td>BANKNIFTY09JUL2022800PE</td>\n",
       "      <td>08-07-2020 09:29</td>\n",
       "      <td>163.50</td>\n",
       "      <td>08-07-2020 13:15</td>\n",
       "      <td>301.00</td>\n",
       "    </tr>\n",
       "    <tr>\n",
       "      <th>1</th>\n",
       "      <td>2</td>\n",
       "      <td>BANKNIFTY09JUL2022700CE</td>\n",
       "      <td>09-07-2020 09:29</td>\n",
       "      <td>162.50</td>\n",
       "      <td>09-07-2020 10:34</td>\n",
       "      <td>166.75</td>\n",
       "    </tr>\n",
       "    <tr>\n",
       "      <th>2</th>\n",
       "      <td>3</td>\n",
       "      <td>BANKNIFTY09JUL2022700PE</td>\n",
       "      <td>09-07-2020 09:29</td>\n",
       "      <td>110.55</td>\n",
       "      <td>09-07-2020 10:34</td>\n",
       "      <td>147.00</td>\n",
       "    </tr>\n",
       "    <tr>\n",
       "      <th>3</th>\n",
       "      <td>4</td>\n",
       "      <td>BANKNIFTY16JUL2022700CE</td>\n",
       "      <td>10-07-2020 09:29</td>\n",
       "      <td>295.10</td>\n",
       "      <td>10-07-2020 15:24</td>\n",
       "      <td>437.55</td>\n",
       "    </tr>\n",
       "    <tr>\n",
       "      <th>4</th>\n",
       "      <td>5</td>\n",
       "      <td>BANKNIFTY16JUL2022700PE</td>\n",
       "      <td>10-07-2020 09:29</td>\n",
       "      <td>555.20</td>\n",
       "      <td>10-07-2020 15:24</td>\n",
       "      <td>403.15</td>\n",
       "    </tr>\n",
       "    <tr>\n",
       "      <th>...</th>\n",
       "      <td>...</td>\n",
       "      <td>...</td>\n",
       "      <td>...</td>\n",
       "      <td>...</td>\n",
       "      <td>...</td>\n",
       "      <td>...</td>\n",
       "    </tr>\n",
       "    <tr>\n",
       "      <th>244</th>\n",
       "      <td>245</td>\n",
       "      <td>BANKNIFTY31DEC2031300PE</td>\n",
       "      <td>29-12-2020 09:29</td>\n",
       "      <td>216.65</td>\n",
       "      <td>29-12-2020 13:10</td>\n",
       "      <td>274.60</td>\n",
       "    </tr>\n",
       "    <tr>\n",
       "      <th>245</th>\n",
       "      <td>246</td>\n",
       "      <td>BANKNIFTY31DEC2031200CE</td>\n",
       "      <td>30-12-2020 09:29</td>\n",
       "      <td>248.25</td>\n",
       "      <td>30-12-2020 10:24</td>\n",
       "      <td>283.90</td>\n",
       "    </tr>\n",
       "    <tr>\n",
       "      <th>246</th>\n",
       "      <td>247</td>\n",
       "      <td>BANKNIFTY31DEC2031200PE</td>\n",
       "      <td>30-12-2020 09:29</td>\n",
       "      <td>221.70</td>\n",
       "      <td>30-12-2020 10:24</td>\n",
       "      <td>240.10</td>\n",
       "    </tr>\n",
       "    <tr>\n",
       "      <th>247</th>\n",
       "      <td>248</td>\n",
       "      <td>BANKNIFTY31DEC2031300CE</td>\n",
       "      <td>31-12-2020 09:29</td>\n",
       "      <td>161.80</td>\n",
       "      <td>31-12-2020 10:37</td>\n",
       "      <td>173.85</td>\n",
       "    </tr>\n",
       "    <tr>\n",
       "      <th>248</th>\n",
       "      <td>249</td>\n",
       "      <td>BANKNIFTY31DEC2031300PE</td>\n",
       "      <td>31-12-2020 09:29</td>\n",
       "      <td>105.05</td>\n",
       "      <td>31-12-2020 10:37</td>\n",
       "      <td>124.00</td>\n",
       "    </tr>\n",
       "  </tbody>\n",
       "</table>\n",
       "<p>249 rows × 6 columns</p>\n",
       "</div>"
      ],
      "text/plain": [
       "     Unnamed: 0                   Ticker        Entry Time  Entry Price  \\\n",
       "0             1  BANKNIFTY09JUL2022800PE  08-07-2020 09:29       163.50   \n",
       "1             2  BANKNIFTY09JUL2022700CE  09-07-2020 09:29       162.50   \n",
       "2             3  BANKNIFTY09JUL2022700PE  09-07-2020 09:29       110.55   \n",
       "3             4  BANKNIFTY16JUL2022700CE  10-07-2020 09:29       295.10   \n",
       "4             5  BANKNIFTY16JUL2022700PE  10-07-2020 09:29       555.20   \n",
       "..          ...                      ...               ...          ...   \n",
       "244         245  BANKNIFTY31DEC2031300PE  29-12-2020 09:29       216.65   \n",
       "245         246  BANKNIFTY31DEC2031200CE  30-12-2020 09:29       248.25   \n",
       "246         247  BANKNIFTY31DEC2031200PE  30-12-2020 09:29       221.70   \n",
       "247         248  BANKNIFTY31DEC2031300CE  31-12-2020 09:29       161.80   \n",
       "248         249  BANKNIFTY31DEC2031300PE  31-12-2020 09:29       105.05   \n",
       "\n",
       "            Exit Time  Exit Price  \n",
       "0    08-07-2020 13:15      301.00  \n",
       "1    09-07-2020 10:34      166.75  \n",
       "2    09-07-2020 10:34      147.00  \n",
       "3    10-07-2020 15:24      437.55  \n",
       "4    10-07-2020 15:24      403.15  \n",
       "..                ...         ...  \n",
       "244  29-12-2020 13:10      274.60  \n",
       "245  30-12-2020 10:24      283.90  \n",
       "246  30-12-2020 10:24      240.10  \n",
       "247  31-12-2020 10:37      173.85  \n",
       "248  31-12-2020 10:37      124.00  \n",
       "\n",
       "[249 rows x 6 columns]"
      ]
     },
     "execution_count": 4,
     "metadata": {},
     "output_type": "execute_result"
    }
   ],
   "source": [
    "data"
   ]
  },
  {
   "cell_type": "code",
   "execution_count": 14,
   "id": "daa365a3",
   "metadata": {},
   "outputs": [
    {
     "data": {
      "text/plain": [
       "Unnamed: 0     249\n",
       "Ticker         249\n",
       "Entry Time     249\n",
       "Entry Price    249\n",
       "Exit Time      249\n",
       "Exit Price     249\n",
       "dtype: int64"
      ]
     },
     "execution_count": 14,
     "metadata": {},
     "output_type": "execute_result"
    }
   ],
   "source": [
    "data.isnull().count()"
   ]
  },
  {
   "cell_type": "code",
   "execution_count": 16,
   "id": "ce40812d",
   "metadata": {},
   "outputs": [
    {
     "data": {
      "image/png": "[encoded data removed]",
      "text/plain": [
       "<Figure size 640x480 with 1 Axes>"
      ]
     },
     "metadata": {},
     "output_type": "display_data"
    }
   ],
   "source": [
    "import seaborn as sns\n",
    "import matplotlib.pyplot as plt\n",
    "\n",
    "sns.boxplot(data)\n",
    "plt.show()\n",
    "\n"
   ]
  },
  {
   "cell_type": "code",
   "execution_count": 7,
   "id": "5e919178",
   "metadata": {},
   "outputs": [],
   "source": [
    "# Constants\n",
    "initial_portfolio_value = 6500\n",
    "risk_free_rate = 0.05  # 5%\n"
   ]
  },
  {
   "cell_type": "code",
   "execution_count": 9,
   "id": "e58a6fc6",
   "metadata": {},
   "outputs": [
    {
     "data": {
      "text/plain": [
       "249"
      ]
     },
     "execution_count": 9,
     "metadata": {},
     "output_type": "execute_result"
    }
   ],
   "source": [
    "len(data)"
   ]
  },
  {
   "cell_type": "code",
   "execution_count": 25,
   "id": "fd829480",
   "metadata": {},
   "outputs": [
    {
     "name": "stdout",
     "output_type": "stream",
     "text": [
      "153 96\n"
     ]
    }
   ],
   "source": [
    "# Calculate parameters\n",
    "total_trades = len(data)\n",
    "profitable_trades = len(data[data['Entry Price'] < data['Exit Price']])\n",
    "loss_making_trades=len(data[data['Entry Price']> data['Exit Price']])\n",
    "#print(profitable_trades + loss_making_trades)\n",
    "print(profitable_trades , loss_making_trades)"
   ]
  },
  {
   "cell_type": "code",
   "execution_count": 27,
   "id": "9ae7b18c",
   "metadata": {},
   "outputs": [
    {
     "data": {
      "text/plain": [
       "0.6144578313253012"
      ]
     },
     "execution_count": 27,
     "metadata": {},
     "output_type": "execute_result"
    }
   ],
   "source": [
    "win_rate = profitable_trades / total_trades\n",
    "win_rate "
   ]
  },
  {
   "cell_type": "code",
   "execution_count": 52,
   "id": "c7764c12",
   "metadata": {},
   "outputs": [
    {
     "data": {
      "text/plain": [
       "0      137.50\n",
       "1        4.25\n",
       "2       36.45\n",
       "3      142.45\n",
       "4     -152.05\n",
       "        ...  \n",
       "244     57.95\n",
       "245     35.65\n",
       "246     18.40\n",
       "247     12.05\n",
       "248     18.95\n",
       "Name: Profit/Loss, Length: 249, dtype: float64"
      ]
     },
     "execution_count": 52,
     "metadata": {},
     "output_type": "execute_result"
    }
   ],
   "source": [
    "data['Profit/Loss'] = data['Exit Price'] - data['Entry Price']\n",
    "data['Profit/Loss']"
   ]
  },
  {
   "cell_type": "code",
   "execution_count": 30,
   "id": "b6d64630",
   "metadata": {},
   "outputs": [
    {
     "name": "stdout",
     "output_type": "stream",
     "text": [
      "Average Profit for Profitable Trades: 76.09542483660131\n",
      "Average Profit for Loss-Making Trades: -105.54375\n"
     ]
    }
   ],
   "source": [
    "average_profit_profitable = data[data['Entry Price'] < data['Exit Price']]['Profit/Loss'].mean()\n",
    "average_profit_loss_making = data[data['Entry Price'] > data['Exit Price']]['Profit/Loss'].mean()\n",
    "\n",
    "print(\"Average Profit for Profitable Trades:\", average_profit_profitable)\n",
    "print(\"Average Profit for Loss-Making Trades:\", average_profit_loss_making)\n"
   ]
  },
  {
   "cell_type": "code",
   "execution_count": 34,
   "id": "9a0324fc",
   "metadata": {},
   "outputs": [
    {
     "name": "stdout",
     "output_type": "stream",
     "text": [
      "0.3855421686746988 87.44899598393575\n"
     ]
    }
   ],
   "source": [
    "loss_rate = 1 - win_rate\n",
    "expectancy = (win_rate * average_profit_profitable) - (loss_rate * average_profit_loss_making)\n",
    "print(loss_rate,expectancy)"
   ]
  },
  {
   "cell_type": "code",
   "execution_count": 42,
   "id": "9edbbc05",
   "metadata": {},
   "outputs": [
    {
     "name": "stdout",
     "output_type": "stream",
     "text": [
      "avg Profit 76.09542483660131\n",
      "avg Loss -105.54375\n",
      "RRR 0.720984661210174\n"
     ]
    }
   ],
   "source": [
    "average_profit = data['Profit/Loss'][data['Entry Price'] < data['Exit Price']].mean()\n",
    "average_loss = data['Profit/Loss'][data['Entry Price'] > data['Exit Price']].mean()\n",
    "risk_reward_ratio = average_profit / abs(average_loss)\n",
    "\n",
    "print('avg Profit',average_profit)\n",
    "print('avg Loss',average_loss)\n",
    "print('RRR',risk_reward_ratio)"
   ]
  },
  {
   "cell_type": "code",
   "execution_count": 41,
   "id": "2bb6c1b1",
   "metadata": {},
   "outputs": [
    {
     "name": "stdout",
     "output_type": "stream",
     "text": [
      "0.720984661210174\n"
     ]
    }
   ],
   "source": [
    "print(risk_reward_ratio)"
   ]
  },
  {
   "cell_type": "code",
   "execution_count": 53,
   "id": "717e3308",
   "metadata": {},
   "outputs": [],
   "source": [
    "# Calculate the daily returns\n",
    "data['Daily Return'] = data['Profit/Loss'] / initial_portfolio_value"
   ]
  },
  {
   "cell_type": "code",
   "execution_count": 54,
   "id": "412ceea7",
   "metadata": {},
   "outputs": [],
   "source": [
    "# Calculate the cumulative returns\n",
    "data['Cumulative Return'] = (1 + data['Daily Return']).cumprod()"
   ]
  },
  {
   "cell_type": "code",
   "execution_count": 56,
   "id": "8553ebc5",
   "metadata": {},
   "outputs": [],
   "source": [
    "# Calculate the standard deviation of daily returns\n",
    "daily_returns = data['Daily Return']\n",
    "volatility = daily_returns.std()\n"
   ]
  },
  {
   "cell_type": "code",
   "execution_count": 57,
   "id": "a03bd97a",
   "metadata": {},
   "outputs": [],
   "source": [
    "# Calculate the Sharpe Ratio\n",
    "rate_of_return = (ending_value / beginning_value) ** (1 / num_periods) - 1\n",
    "sharpe_ratio = (rate_of_return - risk_free_rate) / volatility"
   ]
  },
  {
   "cell_type": "code",
   "execution_count": 58,
   "id": "f271efc3",
   "metadata": {},
   "outputs": [],
   "source": [
    "# Calculate the maximum drawdown\n",
    "cumulative_returns = data['Cumulative Return']\n",
    "max_drawdown = (cumulative_returns / cumulative_returns.cummax() - 1).min()"
   ]
  },
  {
   "cell_type": "code",
   "execution_count": 59,
   "id": "3dd5408b",
   "metadata": {},
   "outputs": [],
   "source": [
    "# Calculate the max drawdown percentage\n",
    "max_drawdown_percentage = max_drawdown * 100"
   ]
  },
  {
   "cell_type": "code",
   "execution_count": 60,
   "id": "9726dda8",
   "metadata": {},
   "outputs": [],
   "source": [
    "# Calculate the Calmar Ratio\n",
    "calmar_ratio = rate_of_return / max_drawdown"
   ]
  },
  {
   "cell_type": "code",
   "execution_count": 61,
   "id": "eb15132e",
   "metadata": {},
   "outputs": [],
   "source": [
    "\n",
    "results = {\n",
    "    \"Total Trades\": [total_trades],\n",
    "    \"Profitable Trades\": [profitable_trades],\n",
    "    \"Loss-Making Trades\": [loss_making_trades],\n",
    "    \"Win Rate\": [win_rate],\n",
    "    \"Average Profit per Trade\": [average_profit],\n",
    "    \"Average Loss per Trade\": [average_loss],\n",
    "    \"Risk Reward Ratio\": [risk_reward_ratio],\n",
    "    \"Expectancy\": [expectancy],\n",
    "    \"Average ROR per Trade\": [rate_of_return],\n",
    "    \"Sharpe Ratio\": [sharpe_ratio],\n",
    "    \"Max Drawdown\": [max_drawdown],\n",
    "    \"Max Drawdown Percentage\": [max_drawdown_percentage],\n",
    "    \"CAGR\": [cagr],\n",
    "    \"Calmar Ratio\": [calmar_ratio]\n",
    "}\n",
    "\n",
    "results_df = pd.DataFrame(results)\n",
    "results_df.to_csv('strategy_results1.csv', index=False)"
   ]
  },
  {
   "cell_type": "code",
   "execution_count": null,
   "id": "d7bbe7f6",
   "metadata": {},
   "outputs": [],
   "source": []
  },
  {
   "cell_type": "code",
   "execution_count": null,
   "id": "57b8abce",
   "metadata": {},
   "outputs": [],
   "source": []
  },
  {
   "cell_type": "code",
   "execution_count": null,
   "id": "ed5cb633",
   "metadata": {},
   "outputs": [],
   "source": []
  }
 ],
 "metadata": {
  "kernelspec": {
   "display_name": "Python 3 (ipykernel)",
   "language": "python",
   "name": "python3"
  },
  "language_info": {
   "codemirror_mode": {
    "name": "ipython",
    "version": 3
   },
   "file_extension": ".py",
   "mimetype": "text/x-python",
   "name": "python",
   "nbconvert_exporter": "python",
   "pygments_lexer": "ipython3",
   "version": "3.11.3"
  }
 },
 "nbformat": 4,
 "nbformat_minor": 5
}
